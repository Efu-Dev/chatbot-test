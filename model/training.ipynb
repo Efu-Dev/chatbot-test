{
 "cells": [
  {
   "cell_type": "markdown",
   "metadata": {},
   "source": [
    "# Entrenamiento de la red neuronal utilizada\n",
    "## Importación de librerías"
   ]
  },
  {
   "cell_type": "code",
   "execution_count": 1,
   "metadata": {},
   "outputs": [
    {
     "name": "stdout",
     "output_type": "stream",
     "text": [
      "WARNING:tensorflow:From e:\\Proyectos\\chatbot\\env\\Lib\\site-packages\\keras\\src\\losses.py:2976: The name tf.losses.sparse_softmax_cross_entropy is deprecated. Please use tf.compat.v1.losses.sparse_softmax_cross_entropy instead.\n",
      "\n"
     ]
    }
   ],
   "source": [
    "import random\n",
    "import json\n",
    "import pickle\n",
    "import numpy as np\n",
    "import re\n",
    "\n",
    "import nltk\n",
    "from nltk.stem import WordNetLemmatizer #Para la respectiva lematización\n",
    "\n",
    "#Para el modelo de red neuronal\n",
    "from keras.models import Sequential\n",
    "from keras.layers import Dense, Activation, Dropout\n",
    "from keras.optimizers import SGD"
   ]
  },
  {
   "cell_type": "markdown",
   "metadata": {},
   "source": [
    "## Carga de dependencias y data"
   ]
  },
  {
   "cell_type": "code",
   "execution_count": 2,
   "metadata": {},
   "outputs": [
    {
     "name": "stderr",
     "output_type": "stream",
     "text": [
      "[nltk_data] Downloading package punkt to\n",
      "[nltk_data]     C:\\Users\\diego\\AppData\\Roaming\\nltk_data...\n",
      "[nltk_data]   Package punkt is already up-to-date!\n",
      "[nltk_data] Downloading package wordnet to\n",
      "[nltk_data]     C:\\Users\\diego\\AppData\\Roaming\\nltk_data...\n",
      "[nltk_data]   Package wordnet is already up-to-date!\n",
      "[nltk_data] Downloading package omw-1.4 to\n",
      "[nltk_data]     C:\\Users\\diego\\AppData\\Roaming\\nltk_data...\n",
      "[nltk_data]   Package omw-1.4 is already up-to-date!\n"
     ]
    },
    {
     "data": {
      "text/plain": [
       "True"
      ]
     },
     "execution_count": 2,
     "metadata": {},
     "output_type": "execute_result"
    }
   ],
   "source": [
    "lemmatizer = WordNetLemmatizer()\n",
    "\n",
    "intents = json.loads(open('intents.json').read())\n",
    "\n",
    "nltk.download('punkt')\n",
    "nltk.download('wordnet')\n",
    "nltk.download('omw-1.4')"
   ]
  },
  {
   "cell_type": "markdown",
   "metadata": {},
   "source": [
    "## Inicialización de variables"
   ]
  },
  {
   "cell_type": "code",
   "execution_count": 3,
   "metadata": {},
   "outputs": [],
   "source": [
    "words = []\n",
    "classes = []\n",
    "documents = []"
   ]
  },
  {
   "cell_type": "code",
   "execution_count": 4,
   "metadata": {},
   "outputs": [],
   "source": [
    "for intent in intents['intents']:\n",
    "    for pattern in intent['patterns']:\n",
    "        word_list = nltk.word_tokenize(pattern)\n",
    "        words.extend(word_list)\n",
    "        documents.append((word_list, intent[\"tag\"]))\n",
    "        if intent[\"tag\"] not in classes:\n",
    "            classes.append(intent[\"tag\"])"
   ]
  },
  {
   "cell_type": "code",
   "execution_count": 5,
   "metadata": {},
   "outputs": [
    {
     "data": {
      "text/plain": [
       "['',\n",
       " 'ahã',\n",
       " 'alguien',\n",
       " 'ayudar',\n",
       " 'ayudarme',\n",
       " 'buenas',\n",
       " 'buenos',\n",
       " 'conoces',\n",
       " 'conocimientos',\n",
       " 'cual',\n",
       " 'cuãl',\n",
       " 'de',\n",
       " 'desarrollador',\n",
       " 'diego',\n",
       " 'disponible',\n",
       " 'dãas',\n",
       " 'e',\n",
       " 'empleos',\n",
       " 'en',\n",
       " 'eres',\n",
       " 'este',\n",
       " 'experiencia',\n",
       " 'faria',\n",
       " 'ha',\n",
       " 'hablame',\n",
       " 'hace',\n",
       " 'hacer',\n",
       " 'haces',\n",
       " 'hello',\n",
       " 'hola',\n",
       " 'hãblame',\n",
       " 'ingeniero',\n",
       " 'java',\n",
       " 'javascript',\n",
       " 'laboral',\n",
       " 'lenguajes',\n",
       " 'manejas',\n",
       " 'noches',\n",
       " 'organizaciones',\n",
       " 'oye',\n",
       " 'para',\n",
       " 'php',\n",
       " 'programaciã³n',\n",
       " 'puede',\n",
       " 'puedes',\n",
       " 'python',\n",
       " 'que',\n",
       " 'quien',\n",
       " 'quiãn',\n",
       " 'quã',\n",
       " 'sabe',\n",
       " 'sabes',\n",
       " 'saludos',\n",
       " 'tardes',\n",
       " 'tecnologia',\n",
       " 'tecnologãas',\n",
       " 'tenido',\n",
       " 'ti',\n",
       " 'tiene',\n",
       " 'tienes',\n",
       " 'trabajado',\n",
       " 'trabajo',\n",
       " 'trabajos',\n",
       " 'tu',\n",
       " 'tus',\n",
       " 'utilizas',\n",
       " 'âestã',\n",
       " 'âhay',\n",
       " 'âme',\n",
       " 'âque',\n",
       " 'âquiãn',\n",
       " 'âquã']"
      ]
     },
     "execution_count": 5,
     "metadata": {},
     "output_type": "execute_result"
    }
   ],
   "source": [
    "lemmatized_words = []\n",
    "for word in words:\n",
    "    clean_word = ''.join(c.lower() for c in word if c.isalnum())\n",
    "    lemmatized_words.append(lemmatizer.lemmatize(clean_word))\n",
    "\n",
    "words = sorted(set(lemmatized_words))\n",
    "words"
   ]
  },
  {
   "cell_type": "code",
   "execution_count": 6,
   "metadata": {},
   "outputs": [],
   "source": [
    "pickle.dump(words, open('words.pkl', 'wb'))\n",
    "pickle.dump(classes, open('classes.pkl', 'wb'))"
   ]
  },
  {
   "cell_type": "code",
   "execution_count": 7,
   "metadata": {},
   "outputs": [
    {
     "name": "stdout",
     "output_type": "stream",
     "text": [
      "[[[0, 0, 0, 0, 0, 0, 0, 0, 0, 0, 0, 0, 0, 0, 0, 0, 0, 0, 0, 0, 0, 0, 0, 0, 0, 0, 0, 0, 0, 1, 0, 0, 0, 0, 0, 0, 0, 0, 0, 0, 0, 0, 0, 0, 0, 0, 0, 0, 0, 0, 0, 0, 0, 0, 0, 0, 0, 0, 0, 0, 0, 0, 0, 0, 0, 0, 0, 0, 0, 0, 0, 0], [1, 0, 0, 0]], [[0, 0, 0, 0, 0, 1, 0, 0, 0, 0, 0, 0, 0, 0, 0, 0, 0, 0, 0, 0, 0, 0, 0, 0, 0, 0, 0, 0, 0, 0, 0, 0, 0, 0, 0, 0, 0, 0, 0, 0, 0, 0, 0, 0, 0, 0, 0, 0, 0, 0, 0, 0, 0, 0, 0, 0, 0, 0, 0, 0, 0, 0, 0, 0, 0, 0, 0, 0, 0, 0, 0, 0], [1, 0, 0, 0]], [[0, 0, 0, 0, 0, 0, 1, 0, 0, 0, 0, 0, 0, 0, 0, 0, 0, 0, 0, 0, 0, 0, 0, 0, 0, 0, 0, 0, 0, 0, 0, 0, 0, 0, 0, 0, 0, 0, 0, 0, 0, 0, 0, 0, 0, 0, 0, 0, 0, 0, 0, 0, 0, 0, 0, 0, 0, 0, 0, 0, 0, 0, 0, 0, 0, 0, 0, 0, 0, 0, 0, 0], [1, 0, 0, 0]], [[0, 0, 0, 0, 0, 1, 0, 0, 0, 0, 0, 0, 0, 0, 0, 0, 0, 0, 0, 0, 0, 0, 0, 0, 0, 0, 0, 0, 0, 0, 0, 0, 0, 0, 0, 0, 0, 0, 0, 0, 0, 0, 0, 0, 0, 0, 0, 0, 0, 0, 0, 0, 0, 1, 0, 0, 0, 0, 0, 0, 0, 0, 0, 0, 0, 0, 0, 0, 0, 0, 0, 0], [1, 0, 0, 0]], [[0, 0, 0, 0, 0, 1, 0, 0, 0, 0, 0, 0, 0, 0, 0, 0, 0, 0, 0, 0, 0, 0, 0, 0, 0, 0, 0, 0, 0, 0, 0, 0, 0, 0, 0, 0, 0, 1, 0, 0, 0, 0, 0, 0, 0, 0, 0, 0, 0, 0, 0, 0, 0, 0, 0, 0, 0, 0, 0, 0, 0, 0, 0, 0, 0, 0, 0, 0, 0, 0, 0, 0], [1, 0, 0, 0]], [[0, 0, 1, 0, 0, 0, 0, 0, 0, 0, 0, 0, 0, 0, 0, 0, 0, 0, 0, 0, 0, 0, 0, 0, 0, 0, 0, 0, 0, 0, 0, 0, 0, 0, 0, 0, 0, 0, 0, 0, 0, 0, 0, 0, 0, 0, 0, 0, 0, 0, 0, 0, 0, 0, 0, 0, 0, 0, 0, 0, 0, 0, 0, 0, 0, 0, 0, 0, 0, 0, 0, 0], [1, 0, 0, 0]], [[0, 0, 0, 0, 0, 0, 0, 0, 0, 0, 0, 0, 0, 0, 0, 0, 0, 0, 0, 0, 0, 0, 0, 0, 0, 0, 0, 0, 0, 0, 0, 0, 0, 0, 0, 0, 0, 0, 0, 0, 0, 0, 0, 0, 0, 0, 0, 0, 0, 0, 0, 0, 1, 0, 0, 0, 0, 0, 0, 0, 0, 0, 0, 0, 0, 0, 0, 0, 0, 0, 0, 0], [1, 0, 0, 0]], [[0, 0, 0, 0, 0, 0, 0, 0, 0, 0, 0, 0, 0, 0, 0, 0, 0, 0, 0, 0, 0, 0, 0, 0, 0, 0, 0, 0, 1, 0, 0, 0, 0, 0, 0, 0, 0, 0, 0, 0, 0, 0, 0, 0, 0, 0, 0, 0, 0, 0, 0, 0, 0, 0, 0, 0, 0, 0, 0, 0, 0, 0, 0, 0, 0, 0, 0, 0, 0, 0, 0, 0], [1, 0, 0, 0]], [[0, 0, 1, 0, 1, 0, 0, 0, 0, 0, 0, 0, 0, 0, 1, 0, 0, 0, 0, 0, 0, 0, 0, 0, 0, 0, 0, 0, 0, 0, 0, 0, 0, 0, 0, 0, 0, 0, 0, 0, 1, 0, 0, 0, 0, 0, 0, 0, 0, 0, 0, 0, 0, 0, 0, 0, 0, 0, 0, 0, 0, 0, 0, 0, 0, 0, 0, 0, 0, 0, 0, 0], [1, 0, 0, 0]], [[0, 0, 0, 1, 0, 0, 0, 0, 0, 0, 0, 0, 0, 0, 0, 0, 0, 0, 0, 0, 0, 0, 0, 0, 0, 0, 0, 0, 0, 0, 0, 0, 0, 0, 0, 0, 0, 0, 0, 1, 0, 0, 0, 0, 1, 0, 0, 0, 0, 0, 0, 0, 0, 0, 0, 0, 0, 0, 0, 0, 0, 0, 0, 0, 0, 0, 0, 0, 0, 0, 0, 0], [1, 0, 0, 0]], [[0, 0, 0, 0, 0, 0, 0, 0, 0, 0, 0, 0, 0, 0, 0, 0, 0, 0, 0, 1, 0, 0, 0, 0, 0, 0, 0, 0, 0, 0, 0, 0, 0, 0, 0, 0, 0, 0, 0, 0, 0, 0, 0, 0, 0, 0, 0, 0, 0, 0, 0, 0, 0, 0, 0, 0, 0, 0, 0, 0, 0, 0, 0, 0, 0, 0, 0, 0, 0, 0, 0, 0], [0, 1, 0, 0]], [[0, 0, 0, 0, 0, 0, 0, 0, 0, 0, 0, 0, 0, 0, 0, 0, 0, 0, 0, 0, 0, 0, 0, 0, 0, 0, 0, 1, 0, 0, 0, 0, 0, 0, 0, 0, 0, 0, 0, 0, 0, 0, 0, 0, 0, 0, 0, 0, 0, 0, 0, 0, 0, 0, 0, 0, 0, 0, 0, 0, 0, 0, 0, 0, 0, 0, 0, 0, 0, 0, 0, 0], [0, 1, 0, 0]], [[0, 0, 0, 0, 0, 0, 0, 0, 0, 0, 0, 0, 0, 1, 0, 0, 1, 0, 0, 0, 0, 0, 0, 0, 0, 0, 0, 0, 0, 0, 0, 0, 0, 0, 0, 0, 0, 0, 0, 0, 0, 0, 0, 0, 0, 0, 0, 0, 0, 0, 0, 0, 0, 0, 0, 0, 0, 0, 0, 0, 0, 0, 0, 0, 0, 0, 0, 0, 0, 0, 0, 0], [0, 1, 0, 0]], [[0, 0, 0, 0, 0, 0, 0, 0, 0, 0, 0, 1, 0, 0, 0, 0, 0, 0, 0, 0, 0, 0, 0, 0, 0, 0, 0, 0, 0, 0, 0, 0, 0, 0, 0, 0, 0, 0, 0, 0, 0, 0, 0, 0, 0, 0, 0, 0, 0, 0, 0, 0, 0, 0, 0, 0, 0, 1, 0, 0, 0, 0, 0, 0, 0, 0, 0, 0, 0, 0, 0, 0], [0, 1, 0, 0]], [[0, 0, 0, 0, 0, 0, 0, 0, 0, 0, 0, 0, 0, 1, 0, 0, 0, 0, 0, 0, 0, 0, 0, 0, 0, 0, 1, 0, 0, 0, 0, 0, 0, 0, 0, 0, 0, 0, 0, 0, 0, 0, 0, 1, 0, 0, 0, 0, 0, 0, 0, 0, 0, 0, 0, 0, 0, 0, 0, 0, 0, 0, 0, 0, 0, 0, 0, 0, 0, 0, 0, 0], [0, 1, 0, 0]], [[0, 0, 0, 0, 0, 0, 0, 0, 0, 0, 0, 1, 0, 1, 0, 0, 0, 0, 0, 0, 0, 0, 0, 0, 1, 0, 0, 0, 0, 0, 0, 0, 0, 0, 0, 0, 0, 0, 0, 0, 0, 0, 0, 0, 0, 0, 0, 0, 0, 0, 0, 0, 0, 0, 0, 0, 0, 0, 0, 0, 0, 0, 0, 0, 0, 0, 0, 0, 0, 0, 0, 0], [0, 1, 0, 0]], [[0, 0, 0, 0, 0, 0, 0, 0, 0, 0, 0, 0, 0, 1, 0, 0, 0, 0, 0, 0, 0, 0, 0, 0, 0, 0, 1, 0, 0, 0, 0, 0, 0, 0, 0, 0, 0, 0, 0, 0, 0, 0, 0, 0, 0, 0, 0, 0, 0, 0, 1, 0, 0, 0, 0, 0, 0, 0, 0, 0, 0, 0, 0, 0, 0, 0, 0, 0, 0, 0, 0, 0], [0, 1, 0, 0]], [[0, 0, 0, 0, 0, 0, 0, 0, 0, 0, 0, 0, 1, 0, 0, 0, 1, 0, 0, 0, 1, 0, 0, 0, 0, 0, 0, 0, 0, 0, 0, 0, 0, 0, 0, 0, 0, 0, 0, 0, 0, 0, 0, 0, 0, 0, 0, 1, 0, 0, 0, 0, 0, 0, 0, 0, 0, 0, 0, 0, 0, 0, 0, 0, 0, 0, 0, 0, 0, 0, 0, 0], [0, 1, 0, 0]], [[0, 0, 0, 0, 0, 0, 0, 0, 0, 0, 0, 0, 0, 0, 0, 0, 0, 0, 0, 0, 1, 0, 0, 0, 0, 1, 0, 0, 0, 0, 0, 1, 0, 0, 0, 0, 0, 0, 0, 0, 0, 0, 0, 0, 0, 0, 1, 0, 0, 0, 0, 0, 0, 0, 0, 0, 0, 0, 0, 0, 0, 0, 0, 0, 0, 0, 0, 0, 0, 0, 0, 0], [0, 1, 0, 0]], [[0, 0, 0, 0, 0, 0, 0, 0, 0, 0, 0, 0, 0, 1, 0, 0, 0, 0, 0, 0, 0, 0, 1, 0, 0, 0, 0, 0, 0, 0, 0, 0, 0, 0, 0, 0, 0, 0, 0, 0, 0, 0, 0, 0, 0, 0, 0, 0, 0, 0, 0, 0, 0, 0, 0, 0, 0, 0, 0, 0, 0, 0, 0, 0, 0, 0, 0, 0, 0, 0, 0, 0], [0, 1, 0, 0]], [[0, 0, 0, 0, 0, 0, 0, 0, 0, 0, 0, 0, 0, 1, 0, 0, 0, 0, 0, 0, 0, 1, 0, 0, 0, 0, 0, 0, 0, 0, 0, 0, 0, 0, 0, 0, 0, 0, 0, 0, 0, 0, 0, 0, 0, 0, 0, 0, 0, 0, 0, 0, 0, 0, 0, 0, 0, 0, 1, 0, 0, 0, 0, 0, 0, 0, 0, 0, 0, 0, 0, 0], [0, 0, 1, 0]], [[0, 0, 0, 0, 0, 0, 0, 0, 0, 0, 0, 0, 0, 0, 0, 0, 0, 0, 0, 0, 0, 1, 0, 0, 0, 0, 0, 0, 0, 0, 0, 0, 0, 0, 0, 0, 0, 0, 0, 0, 0, 0, 0, 0, 0, 0, 0, 0, 0, 0, 0, 0, 0, 0, 0, 0, 0, 0, 0, 1, 0, 0, 0, 0, 0, 0, 0, 0, 0, 0, 0, 0], [0, 0, 1, 0]], [[0, 0, 0, 0, 0, 0, 0, 0, 0, 1, 0, 0, 0, 0, 0, 0, 1, 0, 0, 0, 0, 1, 0, 0, 0, 0, 0, 0, 0, 0, 0, 0, 0, 0, 1, 0, 0, 0, 0, 0, 0, 0, 0, 0, 0, 0, 0, 0, 0, 0, 0, 0, 0, 0, 0, 0, 0, 0, 0, 0, 0, 0, 0, 1, 0, 0, 0, 0, 0, 0, 0, 0], [0, 0, 1, 0]], [[0, 0, 0, 0, 0, 0, 0, 0, 0, 0, 0, 0, 0, 0, 0, 0, 0, 0, 0, 0, 0, 1, 0, 0, 0, 0, 0, 0, 0, 0, 0, 0, 0, 0, 1, 0, 0, 0, 0, 0, 0, 0, 0, 0, 0, 0, 0, 0, 0, 0, 0, 0, 0, 0, 0, 0, 0, 0, 0, 1, 0, 0, 0, 0, 0, 0, 0, 0, 0, 0, 0, 0], [0, 0, 1, 0]], [[0, 0, 0, 0, 0, 0, 0, 0, 0, 0, 0, 0, 0, 0, 0, 0, 0, 0, 0, 0, 0, 1, 0, 0, 0, 0, 0, 0, 0, 0, 0, 0, 0, 0, 0, 0, 0, 0, 0, 0, 0, 0, 0, 0, 0, 0, 0, 0, 0, 0, 0, 0, 0, 0, 0, 0, 0, 0, 0, 1, 0, 0, 0, 0, 0, 0, 0, 0, 0, 0, 0, 0], [0, 0, 1, 0]], [[0, 0, 0, 0, 0, 0, 0, 0, 0, 0, 0, 0, 0, 0, 0, 0, 0, 0, 0, 0, 0, 0, 0, 1, 0, 0, 0, 0, 0, 0, 0, 0, 0, 0, 0, 0, 0, 0, 0, 0, 0, 0, 0, 0, 0, 0, 0, 0, 0, 0, 0, 0, 0, 0, 0, 0, 1, 0, 0, 0, 0, 0, 1, 0, 0, 0, 0, 0, 0, 0, 0, 0], [0, 0, 1, 0]], [[0, 0, 0, 0, 0, 0, 0, 0, 0, 0, 0, 1, 0, 0, 0, 0, 0, 0, 0, 0, 0, 1, 0, 0, 0, 0, 0, 0, 0, 0, 0, 0, 0, 0, 1, 0, 0, 0, 0, 0, 0, 0, 0, 0, 0, 0, 0, 0, 0, 0, 0, 0, 0, 0, 0, 0, 0, 0, 0, 0, 0, 0, 0, 1, 0, 0, 0, 0, 0, 0, 0, 0], [0, 0, 1, 0]], [[0, 0, 0, 0, 0, 0, 0, 0, 0, 0, 0, 1, 0, 0, 0, 0, 0, 1, 0, 0, 0, 0, 0, 0, 1, 0, 0, 0, 0, 0, 0, 0, 0, 0, 0, 0, 0, 0, 0, 0, 0, 0, 0, 0, 0, 0, 0, 0, 0, 0, 0, 0, 0, 0, 0, 0, 0, 0, 0, 0, 0, 0, 0, 0, 1, 0, 0, 0, 0, 0, 0, 0], [0, 0, 1, 0]], [[0, 0, 0, 0, 0, 0, 0, 0, 0, 0, 0, 0, 0, 0, 0, 0, 0, 0, 1, 0, 0, 0, 0, 1, 0, 0, 0, 0, 0, 0, 0, 0, 0, 0, 0, 0, 0, 0, 1, 0, 0, 0, 0, 0, 0, 0, 1, 0, 0, 0, 0, 0, 0, 0, 0, 0, 0, 0, 0, 0, 1, 0, 0, 0, 0, 0, 0, 0, 0, 0, 0, 0], [0, 0, 1, 0]], [[0, 0, 0, 0, 0, 0, 0, 0, 0, 0, 0, 1, 0, 0, 0, 0, 0, 0, 0, 0, 0, 0, 0, 0, 1, 0, 0, 0, 0, 0, 0, 0, 0, 0, 0, 0, 0, 0, 0, 0, 0, 0, 0, 0, 0, 0, 0, 0, 0, 0, 0, 0, 0, 0, 0, 0, 0, 0, 0, 0, 0, 1, 0, 1, 0, 0, 0, 0, 0, 0, 0, 0], [0, 0, 1, 0]], [[0, 0, 0, 0, 0, 0, 0, 0, 0, 0, 0, 0, 0, 0, 0, 0, 0, 0, 0, 0, 0, 0, 0, 0, 0, 0, 0, 0, 0, 0, 0, 0, 0, 0, 0, 0, 0, 0, 0, 0, 0, 0, 0, 0, 0, 0, 1, 0, 0, 0, 0, 0, 0, 0, 0, 0, 0, 0, 0, 0, 0, 0, 0, 0, 0, 1, 0, 0, 0, 0, 0, 0], [0, 0, 0, 1]], [[0, 0, 0, 0, 0, 0, 0, 1, 0, 0, 0, 1, 0, 0, 0, 0, 0, 0, 0, 0, 0, 0, 0, 0, 0, 0, 0, 0, 0, 0, 0, 0, 0, 0, 0, 1, 0, 0, 0, 0, 0, 0, 1, 0, 0, 0, 1, 0, 0, 0, 0, 0, 0, 0, 0, 0, 0, 0, 0, 0, 0, 0, 0, 0, 0, 0, 0, 0, 0, 0, 0, 0], [0, 0, 0, 1]], [[0, 0, 0, 0, 0, 0, 0, 0, 1, 0, 0, 1, 0, 0, 0, 0, 0, 0, 0, 0, 0, 0, 0, 0, 1, 0, 0, 0, 0, 0, 0, 0, 0, 0, 0, 0, 0, 0, 0, 0, 0, 0, 0, 0, 0, 0, 0, 0, 0, 0, 0, 0, 0, 0, 0, 0, 0, 0, 0, 0, 0, 0, 0, 0, 1, 0, 0, 0, 0, 0, 0, 0], [0, 0, 0, 1]], [[0, 0, 0, 0, 0, 0, 0, 0, 1, 0, 0, 1, 0, 0, 0, 0, 0, 0, 0, 0, 0, 0, 0, 0, 0, 0, 0, 0, 0, 0, 0, 0, 0, 0, 0, 0, 0, 0, 0, 0, 0, 0, 0, 0, 0, 0, 1, 0, 0, 0, 0, 0, 0, 0, 1, 0, 0, 0, 0, 1, 0, 0, 0, 0, 0, 0, 0, 0, 0, 0, 0, 0], [0, 0, 0, 1]], [[0, 0, 0, 0, 0, 0, 0, 0, 0, 0, 0, 0, 0, 0, 0, 0, 0, 0, 0, 0, 0, 0, 0, 0, 0, 0, 0, 0, 0, 0, 0, 0, 0, 0, 0, 1, 1, 0, 0, 0, 0, 0, 0, 0, 0, 0, 1, 0, 0, 0, 0, 0, 0, 0, 0, 0, 0, 0, 0, 0, 0, 0, 0, 0, 0, 0, 0, 0, 0, 0, 0, 0], [0, 0, 0, 1]], [[0, 0, 0, 0, 0, 0, 0, 0, 0, 0, 0, 1, 0, 0, 0, 0, 0, 0, 0, 0, 0, 0, 0, 0, 0, 0, 0, 0, 0, 0, 0, 0, 0, 0, 0, 1, 0, 0, 0, 0, 0, 0, 1, 0, 0, 0, 1, 0, 0, 0, 0, 0, 0, 0, 0, 0, 0, 0, 0, 0, 0, 0, 0, 0, 0, 1, 0, 0, 0, 0, 0, 0], [0, 0, 0, 1]], [[0, 0, 0, 0, 0, 0, 0, 0, 0, 0, 0, 0, 0, 0, 0, 0, 0, 0, 0, 0, 0, 0, 0, 0, 0, 0, 0, 0, 0, 0, 0, 0, 0, 0, 0, 0, 0, 0, 0, 0, 0, 0, 0, 0, 0, 1, 0, 0, 0, 0, 0, 1, 0, 0, 0, 0, 0, 0, 0, 0, 0, 0, 0, 0, 0, 0, 0, 0, 0, 0, 0, 0], [0, 0, 0, 1]], [[0, 0, 0, 0, 0, 0, 0, 1, 0, 0, 0, 0, 0, 0, 0, 0, 0, 0, 0, 0, 0, 0, 0, 0, 0, 0, 0, 0, 0, 0, 0, 0, 0, 0, 0, 0, 0, 0, 0, 0, 0, 1, 0, 0, 0, 0, 0, 0, 0, 0, 0, 0, 0, 0, 0, 0, 0, 0, 0, 0, 0, 0, 0, 0, 0, 0, 0, 0, 0, 0, 0, 0], [0, 0, 0, 1]], [[0, 0, 0, 0, 0, 0, 0, 1, 0, 0, 0, 0, 0, 0, 0, 0, 0, 0, 0, 0, 0, 0, 0, 0, 0, 0, 0, 0, 0, 0, 0, 0, 0, 1, 0, 0, 0, 0, 0, 0, 0, 0, 0, 0, 0, 0, 0, 0, 0, 0, 0, 0, 0, 0, 0, 0, 0, 0, 0, 0, 0, 0, 0, 0, 0, 0, 0, 0, 0, 0, 0, 0], [0, 0, 0, 1]], [[0, 0, 0, 0, 0, 0, 0, 0, 0, 0, 0, 0, 0, 0, 0, 0, 0, 0, 0, 0, 0, 0, 0, 0, 0, 0, 0, 0, 0, 0, 0, 0, 1, 0, 0, 0, 1, 0, 0, 0, 0, 0, 0, 0, 0, 0, 0, 0, 0, 0, 0, 0, 0, 0, 0, 0, 0, 0, 0, 0, 0, 0, 0, 0, 0, 0, 0, 0, 0, 0, 0, 0], [0, 0, 0, 1]]]\n"
     ]
    }
   ],
   "source": [
    "training = []\n",
    "output_empty = [0]*len(classes)\n",
    "for document in documents:\n",
    "    bag = []\n",
    "    word_patterns = document[0]\n",
    "    word_patterns = [lemmatizer.lemmatize(word.lower()) for word in word_patterns]\n",
    "    for word in words:\n",
    "        bag.append(1) if word in word_patterns else bag.append(0)\n",
    "    output_row = list(output_empty)\n",
    "    output_row[classes.index(document[1])] = 1\n",
    "    training.append([bag, output_row])\n",
    "print(training)\n",
    "random.shuffle(training)\n",
    "training = np.asarray(training, dtype=\"object\")"
   ]
  },
  {
   "cell_type": "code",
   "execution_count": 8,
   "metadata": {},
   "outputs": [],
   "source": [
    "train_x = list(training[:,0])\n",
    "train_y = list(training[:,1])"
   ]
  },
  {
   "cell_type": "code",
   "execution_count": 9,
   "metadata": {},
   "outputs": [
    {
     "name": "stdout",
     "output_type": "stream",
     "text": [
      "WARNING:tensorflow:From e:\\Proyectos\\chatbot\\env\\Lib\\site-packages\\keras\\src\\backend.py:873: The name tf.get_default_graph is deprecated. Please use tf.compat.v1.get_default_graph instead.\n",
      "\n"
     ]
    }
   ],
   "source": [
    "model = Sequential()\n",
    "model.add(Dense(128, input_shape=(len(train_x[0]),), activation='relu'))\n",
    "model.add(Dropout(0.5))\n",
    "model.add(Dense(64, activation='relu'))\n",
    "model.add(Dropout(0.5))\n",
    "model.add(Dense(len(train_y[0]), activation='softmax'))"
   ]
  },
  {
   "cell_type": "code",
   "execution_count": 10,
   "metadata": {},
   "outputs": [],
   "source": [
    "sgd = SGD(learning_rate=0.001, momentum=0.9, nesterov=True)\n",
    "model.compile(loss='categorical_crossentropy', optimizer = sgd, metrics = ['accuracy'])\n"
   ]
  },
  {
   "cell_type": "code",
   "execution_count": 11,
   "metadata": {},
   "outputs": [
    {
     "name": "stdout",
     "output_type": "stream",
     "text": [
      "Epoch 1/100\n",
      "WARNING:tensorflow:From e:\\Proyectos\\chatbot\\env\\Lib\\site-packages\\keras\\src\\utils\\tf_utils.py:492: The name tf.ragged.RaggedTensorValue is deprecated. Please use tf.compat.v1.ragged.RaggedTensorValue instead.\n",
      "\n",
      "WARNING:tensorflow:From e:\\Proyectos\\chatbot\\env\\Lib\\site-packages\\keras\\src\\engine\\base_layer_utils.py:384: The name tf.executing_eagerly_outside_functions is deprecated. Please use tf.compat.v1.executing_eagerly_outside_functions instead.\n",
      "\n",
      "8/8 [==============================] - 1s 2ms/step - loss: 1.3734 - accuracy: 0.2500\n",
      "Epoch 2/100\n",
      "8/8 [==============================] - 0s 2ms/step - loss: 1.3787 - accuracy: 0.3250\n",
      "Epoch 3/100\n",
      "8/8 [==============================] - 0s 2ms/step - loss: 1.4167 - accuracy: 0.2250\n",
      "Epoch 4/100\n",
      "8/8 [==============================] - 0s 2ms/step - loss: 1.4050 - accuracy: 0.2500\n",
      "Epoch 5/100\n",
      "8/8 [==============================] - 0s 2ms/step - loss: 1.4039 - accuracy: 0.3000\n",
      "Epoch 6/100\n",
      "8/8 [==============================] - 0s 1ms/step - loss: 1.3731 - accuracy: 0.2500\n",
      "Epoch 7/100\n",
      "8/8 [==============================] - 0s 1ms/step - loss: 1.4322 - accuracy: 0.2750\n",
      "Epoch 8/100\n",
      "8/8 [==============================] - 0s 1ms/step - loss: 1.3386 - accuracy: 0.3500\n",
      "Epoch 9/100\n",
      "8/8 [==============================] - 0s 2ms/step - loss: 1.3309 - accuracy: 0.4250\n",
      "Epoch 10/100\n",
      "8/8 [==============================] - 0s 2ms/step - loss: 1.3369 - accuracy: 0.4000\n",
      "Epoch 11/100\n",
      "8/8 [==============================] - 0s 2ms/step - loss: 1.3430 - accuracy: 0.3250\n",
      "Epoch 12/100\n",
      "8/8 [==============================] - 0s 2ms/step - loss: 1.3540 - accuracy: 0.3750\n",
      "Epoch 13/100\n",
      "8/8 [==============================] - 0s 2ms/step - loss: 1.3216 - accuracy: 0.4500\n",
      "Epoch 14/100\n",
      "8/8 [==============================] - 0s 2ms/step - loss: 1.3415 - accuracy: 0.3500\n",
      "Epoch 15/100\n",
      "8/8 [==============================] - 0s 2ms/step - loss: 1.2979 - accuracy: 0.4000\n",
      "Epoch 16/100\n",
      "8/8 [==============================] - 0s 1ms/step - loss: 1.2522 - accuracy: 0.6250\n",
      "Epoch 17/100\n",
      "8/8 [==============================] - 0s 2ms/step - loss: 1.2859 - accuracy: 0.4750\n",
      "Epoch 18/100\n",
      "8/8 [==============================] - 0s 1ms/step - loss: 1.2549 - accuracy: 0.5000\n",
      "Epoch 19/100\n",
      "8/8 [==============================] - 0s 2ms/step - loss: 1.2814 - accuracy: 0.4000\n",
      "Epoch 20/100\n",
      "8/8 [==============================] - 0s 2ms/step - loss: 1.2481 - accuracy: 0.5000\n",
      "Epoch 21/100\n",
      "8/8 [==============================] - 0s 1ms/step - loss: 1.2802 - accuracy: 0.4000\n",
      "Epoch 22/100\n",
      "8/8 [==============================] - 0s 1ms/step - loss: 1.2394 - accuracy: 0.5500\n",
      "Epoch 23/100\n",
      "8/8 [==============================] - 0s 2ms/step - loss: 1.2821 - accuracy: 0.4250\n",
      "Epoch 24/100\n",
      "8/8 [==============================] - 0s 2ms/step - loss: 1.3230 - accuracy: 0.3750\n",
      "Epoch 25/100\n",
      "8/8 [==============================] - 0s 2ms/step - loss: 1.2372 - accuracy: 0.5250\n",
      "Epoch 26/100\n",
      "8/8 [==============================] - 0s 2ms/step - loss: 1.2186 - accuracy: 0.6750\n",
      "Epoch 27/100\n",
      "8/8 [==============================] - 0s 2ms/step - loss: 1.2260 - accuracy: 0.5000\n",
      "Epoch 28/100\n",
      "8/8 [==============================] - 0s 2ms/step - loss: 1.2113 - accuracy: 0.6000\n",
      "Epoch 29/100\n",
      "8/8 [==============================] - 0s 2ms/step - loss: 1.2239 - accuracy: 0.5250\n",
      "Epoch 30/100\n",
      "8/8 [==============================] - 0s 2ms/step - loss: 1.2155 - accuracy: 0.5500\n",
      "Epoch 31/100\n",
      "8/8 [==============================] - 0s 2ms/step - loss: 1.2174 - accuracy: 0.5250\n",
      "Epoch 32/100\n",
      "8/8 [==============================] - 0s 1ms/step - loss: 1.2006 - accuracy: 0.5500\n",
      "Epoch 33/100\n",
      "8/8 [==============================] - 0s 2ms/step - loss: 1.2234 - accuracy: 0.5750\n",
      "Epoch 34/100\n",
      "8/8 [==============================] - 0s 2ms/step - loss: 1.1706 - accuracy: 0.6250\n",
      "Epoch 35/100\n",
      "8/8 [==============================] - 0s 2ms/step - loss: 1.1498 - accuracy: 0.6250\n",
      "Epoch 36/100\n",
      "8/8 [==============================] - 0s 1ms/step - loss: 1.2166 - accuracy: 0.5750\n",
      "Epoch 37/100\n",
      "8/8 [==============================] - 0s 2ms/step - loss: 1.1417 - accuracy: 0.5750\n",
      "Epoch 38/100\n",
      "8/8 [==============================] - 0s 2ms/step - loss: 1.1366 - accuracy: 0.6250\n",
      "Epoch 39/100\n",
      "8/8 [==============================] - 0s 2ms/step - loss: 1.1718 - accuracy: 0.5500\n",
      "Epoch 40/100\n",
      "8/8 [==============================] - 0s 2ms/step - loss: 1.1889 - accuracy: 0.5750\n",
      "Epoch 41/100\n",
      "8/8 [==============================] - 0s 2ms/step - loss: 1.1068 - accuracy: 0.6250\n",
      "Epoch 42/100\n",
      "8/8 [==============================] - 0s 2ms/step - loss: 1.1210 - accuracy: 0.6500\n",
      "Epoch 43/100\n",
      "8/8 [==============================] - 0s 2ms/step - loss: 1.1863 - accuracy: 0.5750\n",
      "Epoch 44/100\n",
      "8/8 [==============================] - 0s 2ms/step - loss: 1.1669 - accuracy: 0.6500\n",
      "Epoch 45/100\n",
      "8/8 [==============================] - 0s 2ms/step - loss: 1.1060 - accuracy: 0.7250\n",
      "Epoch 46/100\n",
      "8/8 [==============================] - 0s 2ms/step - loss: 1.1470 - accuracy: 0.7000\n",
      "Epoch 47/100\n",
      "8/8 [==============================] - 0s 2ms/step - loss: 1.1170 - accuracy: 0.7000\n",
      "Epoch 48/100\n",
      "8/8 [==============================] - 0s 2ms/step - loss: 1.0605 - accuracy: 0.6750\n",
      "Epoch 49/100\n",
      "8/8 [==============================] - 0s 2ms/step - loss: 1.1671 - accuracy: 0.5750\n",
      "Epoch 50/100\n",
      "8/8 [==============================] - 0s 2ms/step - loss: 1.0120 - accuracy: 0.7500\n",
      "Epoch 51/100\n",
      "8/8 [==============================] - 0s 2ms/step - loss: 1.0456 - accuracy: 0.6000\n",
      "Epoch 52/100\n",
      "8/8 [==============================] - 0s 2ms/step - loss: 1.0192 - accuracy: 0.8250\n",
      "Epoch 53/100\n",
      "8/8 [==============================] - 0s 2ms/step - loss: 1.0623 - accuracy: 0.7000\n",
      "Epoch 54/100\n",
      "8/8 [==============================] - 0s 8ms/step - loss: 0.9743 - accuracy: 0.7500\n",
      "Epoch 55/100\n",
      "8/8 [==============================] - 0s 2ms/step - loss: 0.9742 - accuracy: 0.8000\n",
      "Epoch 56/100\n",
      "8/8 [==============================] - 0s 2ms/step - loss: 1.0417 - accuracy: 0.6500\n",
      "Epoch 57/100\n",
      "8/8 [==============================] - 0s 2ms/step - loss: 1.0254 - accuracy: 0.6250\n",
      "Epoch 58/100\n",
      "8/8 [==============================] - 0s 1ms/step - loss: 1.0023 - accuracy: 0.7250\n",
      "Epoch 59/100\n",
      "8/8 [==============================] - 0s 2ms/step - loss: 1.0043 - accuracy: 0.6500\n",
      "Epoch 60/100\n",
      "8/8 [==============================] - 0s 2ms/step - loss: 0.9518 - accuracy: 0.8250\n",
      "Epoch 61/100\n",
      "8/8 [==============================] - 0s 1ms/step - loss: 0.9444 - accuracy: 0.7500\n",
      "Epoch 62/100\n",
      "8/8 [==============================] - 0s 1ms/step - loss: 0.9677 - accuracy: 0.8000\n",
      "Epoch 63/100\n",
      "8/8 [==============================] - 0s 1ms/step - loss: 0.9317 - accuracy: 0.8000\n",
      "Epoch 64/100\n",
      "8/8 [==============================] - 0s 1ms/step - loss: 1.0206 - accuracy: 0.6750\n",
      "Epoch 65/100\n",
      "8/8 [==============================] - 0s 1ms/step - loss: 0.9458 - accuracy: 0.7750\n",
      "Epoch 66/100\n",
      "8/8 [==============================] - 0s 1ms/step - loss: 0.9785 - accuracy: 0.7250\n",
      "Epoch 67/100\n",
      "8/8 [==============================] - 0s 1ms/step - loss: 0.8724 - accuracy: 0.7750\n",
      "Epoch 68/100\n",
      "8/8 [==============================] - 0s 1ms/step - loss: 0.8528 - accuracy: 0.8500\n",
      "Epoch 69/100\n",
      "8/8 [==============================] - 0s 1ms/step - loss: 0.8342 - accuracy: 0.9000\n",
      "Epoch 70/100\n",
      "8/8 [==============================] - 0s 1ms/step - loss: 0.9217 - accuracy: 0.7000\n",
      "Epoch 71/100\n",
      "8/8 [==============================] - 0s 1ms/step - loss: 0.8610 - accuracy: 0.8250\n",
      "Epoch 72/100\n",
      "8/8 [==============================] - 0s 2ms/step - loss: 0.9340 - accuracy: 0.7250\n",
      "Epoch 73/100\n",
      "8/8 [==============================] - 0s 2ms/step - loss: 0.8885 - accuracy: 0.7000\n",
      "Epoch 74/100\n",
      "8/8 [==============================] - 0s 2ms/step - loss: 0.8277 - accuracy: 0.7500\n",
      "Epoch 75/100\n",
      "8/8 [==============================] - 0s 1ms/step - loss: 0.9086 - accuracy: 0.7250\n",
      "Epoch 76/100\n",
      "8/8 [==============================] - 0s 1ms/step - loss: 0.8600 - accuracy: 0.8000\n",
      "Epoch 77/100\n",
      "8/8 [==============================] - 0s 1ms/step - loss: 0.8482 - accuracy: 0.8000\n",
      "Epoch 78/100\n",
      "8/8 [==============================] - 0s 1ms/step - loss: 0.8639 - accuracy: 0.7500\n",
      "Epoch 79/100\n",
      "8/8 [==============================] - 0s 1ms/step - loss: 0.8122 - accuracy: 0.8250\n",
      "Epoch 80/100\n",
      "8/8 [==============================] - 0s 1ms/step - loss: 0.8218 - accuracy: 0.8500\n",
      "Epoch 81/100\n",
      "8/8 [==============================] - 0s 1ms/step - loss: 0.8042 - accuracy: 0.7500\n",
      "Epoch 82/100\n",
      "8/8 [==============================] - 0s 2ms/step - loss: 0.7168 - accuracy: 0.9250\n",
      "Epoch 83/100\n",
      "8/8 [==============================] - 0s 2ms/step - loss: 0.7545 - accuracy: 0.9000\n",
      "Epoch 84/100\n",
      "8/8 [==============================] - 0s 1ms/step - loss: 0.7443 - accuracy: 0.7750\n",
      "Epoch 85/100\n",
      "8/8 [==============================] - 0s 1ms/step - loss: 0.7389 - accuracy: 0.8250\n",
      "Epoch 86/100\n",
      "8/8 [==============================] - 0s 2ms/step - loss: 0.7550 - accuracy: 0.8750\n",
      "Epoch 87/100\n",
      "8/8 [==============================] - 0s 1ms/step - loss: 0.6671 - accuracy: 0.8750\n",
      "Epoch 88/100\n",
      "8/8 [==============================] - 0s 2ms/step - loss: 0.6865 - accuracy: 0.8000\n",
      "Epoch 89/100\n",
      "8/8 [==============================] - 0s 2ms/step - loss: 0.7515 - accuracy: 0.8000\n",
      "Epoch 90/100\n",
      "8/8 [==============================] - 0s 1ms/step - loss: 0.8162 - accuracy: 0.8000\n",
      "Epoch 91/100\n",
      "8/8 [==============================] - 0s 1ms/step - loss: 0.6374 - accuracy: 0.8750\n",
      "Epoch 92/100\n",
      "8/8 [==============================] - 0s 1ms/step - loss: 0.7762 - accuracy: 0.7750\n",
      "Epoch 93/100\n",
      "8/8 [==============================] - 0s 2ms/step - loss: 0.6265 - accuracy: 0.9000\n",
      "Epoch 94/100\n",
      "8/8 [==============================] - 0s 1ms/step - loss: 0.6770 - accuracy: 0.8750\n",
      "Epoch 95/100\n",
      "8/8 [==============================] - 0s 2ms/step - loss: 0.6794 - accuracy: 0.8500\n",
      "Epoch 96/100\n",
      "8/8 [==============================] - 0s 2ms/step - loss: 0.6996 - accuracy: 0.8000\n",
      "Epoch 97/100\n",
      "8/8 [==============================] - 0s 1ms/step - loss: 0.6347 - accuracy: 0.9250\n",
      "Epoch 98/100\n",
      "8/8 [==============================] - 0s 1ms/step - loss: 0.6415 - accuracy: 0.8750\n",
      "Epoch 99/100\n",
      "8/8 [==============================] - 0s 1ms/step - loss: 0.6424 - accuracy: 0.9000\n",
      "Epoch 100/100\n",
      "8/8 [==============================] - 0s 2ms/step - loss: 0.6276 - accuracy: 0.8750\n"
     ]
    },
    {
     "name": "stderr",
     "output_type": "stream",
     "text": [
      "e:\\Proyectos\\chatbot\\env\\Lib\\site-packages\\keras\\src\\engine\\training.py:3103: UserWarning: You are saving your model as an HDF5 file via `model.save()`. This file format is considered legacy. We recommend using instead the native Keras format, e.g. `model.save('my_model.keras')`.\n",
      "  saving_api.save_model(\n"
     ]
    }
   ],
   "source": [
    "train_process = model.fit(np.array(train_x), np.array(train_y), epochs=100, batch_size=5, verbose=1)\n",
    "model.save(\"chatbot_model.h5\", train_process)"
   ]
  }
 ],
 "metadata": {
  "kernelspec": {
   "display_name": "env",
   "language": "python",
   "name": "python3"
  },
  "language_info": {
   "codemirror_mode": {
    "name": "ipython",
    "version": 3
   },
   "file_extension": ".py",
   "mimetype": "text/x-python",
   "name": "python",
   "nbconvert_exporter": "python",
   "pygments_lexer": "ipython3",
   "version": "3.11.4"
  }
 },
 "nbformat": 4,
 "nbformat_minor": 2
}
